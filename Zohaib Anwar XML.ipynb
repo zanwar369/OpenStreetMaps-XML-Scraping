{
 "cells": [
  {
   "cell_type": "markdown",
   "metadata": {},
   "source": [
    "# Introduction #"
   ]
  },
  {
   "cell_type": "markdown",
   "metadata": {},
   "source": [
    "In this project I download the New York xml file from OpenStreetMaps.org, parse it to get data from nodes and ways, and then clean the street names to ensure they meet the same formats. The only real problem is that it seems some street names are completely wrong and would need to either be deleted or further delved into."
   ]
  },
  {
   "cell_type": "code",
   "execution_count": 25,
   "metadata": {},
   "outputs": [],
   "source": [
    "from bs4 import BeautifulSoup                                  #Importing Relevant Packages\n",
    "import pandas as pd\n",
    "import numpy as np\n",
    "import matplotlib.pyplot as plt\n",
    "import seaborn as sns\n",
    "import plotly\n",
    "from IPython.core.interactiveshell import InteractiveShell\n",
    "InteractiveShell.ast_node_interactivity=\"all\"\n",
    "import zipfile as zf\n",
    "import requests, io\n",
    "import shutil\n",
    "import html5lib\n",
    "from plotly.offline import iplot, iplot_mpl \n",
    "import plotly.graph_objs as go\n",
    "%matplotlib inline\n",
    "import bz2\n",
    "import xml.etree.cElementTree as et\n",
    "from collections import defaultdict\n",
    "import re\n",
    "import pprint\n",
    "import csv\n",
    "import codecs\n",
    "import cerberus\n",
    "import sqlite3\n",
    "from scipy import stats\n",
    "from IPython.display import display"
   ]
  },
  {
   "cell_type": "code",
   "execution_count": 22,
   "metadata": {
    "collapsed": true
   },
   "outputs": [],
   "source": [
    "url=\"https://s3.amazonaws.com/metro-extracts.mapzen.com/new-york_new-york.osm.bz2\"\n",
    "r=requests.get(url,timeout=1)                                                       #Downloading the dataset to the notebook"
   ]
  },
  {
   "cell_type": "code",
   "execution_count": 23,
   "metadata": {
    "collapsed": true
   },
   "outputs": [],
   "source": [
    "def count_tags(filename):\n",
    "        tags=defaultdict()                                                          #Checking the count of each type of tag\n",
    "        for event, element in et.iterparse(filename,events=(\"start\",)):\n",
    "            if element.tag not in tags.keys():\n",
    "                tags[element.tag]=1\n",
    "            elif element.tag in tags.keys():\n",
    "                tags[element.tag]+=1\n",
    "        return tags\n",
    "\n",
    "with bz2.BZ2File(io.BytesIO(r.content)) as xml:\n",
    "    tags=count_tags(xml)"
   ]
  },
  {
   "cell_type": "markdown",
   "metadata": {},
   "source": [
    "As can bee seen there are 11.5 million nodes, and 1.8 million ways. A lot of this code will obviously take a while to run."
   ]
  },
  {
   "cell_type": "code",
   "execution_count": 26,
   "metadata": {},
   "outputs": [
    {
     "data": {
      "text/plain": [
       "defaultdict(None,\n",
       "            {'bounds': 1,\n",
       "             'member': 112118,\n",
       "             'nd': 14549647,\n",
       "             'node': 11511646,\n",
       "             'osm': 1,\n",
       "             'relation': 9724,\n",
       "             'tag': 9698321,\n",
       "             'way': 1804132})"
      ]
     },
     "execution_count": 26,
     "metadata": {},
     "output_type": "execute_result"
    }
   ],
   "source": [
    "tags"
   ]
  },
  {
   "cell_type": "code",
   "execution_count": 28,
   "metadata": {
    "collapsed": true
   },
   "outputs": [],
   "source": [
    "lower = re.compile(r'^([a-z]|_)*$')\n",
    "lower_colon = re.compile(r'^([a-z]|_)*:([a-z]|_)*$')                    #Using Regex to create patterns to recognize potentional\n",
    "problemchars = re.compile(r'[=\\+/&<>;\\'\"\\?%#$@\\,\\. \\t\\r\\n]')            #problems with street names.\n",
    "\n",
    "def key_type(element, keys):\n",
    "    if element.tag == \"tag\":\n",
    "        if lower.match(element.attrib.get('k')):                        #Adding counts to each of the types in the keys\n",
    "            keys['lower']+=1                                            #dictionary.\n",
    "        elif lower_colon.match(element.attrib.get('k')):\n",
    "            keys['lower_colon']+=1\n",
    "        elif problemchars.match(element.attrib.get('k')):\n",
    "            keys['problemchars']+=1\n",
    "        else:\n",
    "            keys['other']+=1\n",
    "        pass\n",
    "        \n",
    "    return keys\n",
    "\n",
    "\n",
    "\n",
    "def process_map_keys(filename):\n",
    "    keys = {\"lower\": 0, \"lower_colon\": 0, \"problemchars\": 0, \"other\": 0}     #Returning dictionary with the counts.\n",
    "    for _, element in et.iterparse(filename):\n",
    "        keys = key_type(element, keys)\n",
    "\n",
    "    return keys\n",
    "\n",
    "with bz2.BZ2File(io.BytesIO(r.content)) as xml:\n",
    "    keys=process_map_keys(xml)"
   ]
  },
  {
   "cell_type": "markdown",
   "metadata": {},
   "source": [
    "Most of the problems with the street names is that they seem to be in different formats as seen below"
   ]
  },
  {
   "cell_type": "code",
   "execution_count": 29,
   "metadata": {},
   "outputs": [
    {
     "data": {
      "text/plain": [
       "{'lower': 3778075, 'lower_colon': 5789589, 'other': 130657, 'problemchars': 0}"
      ]
     },
     "execution_count": 29,
     "metadata": {},
     "output_type": "execute_result"
    }
   ],
   "source": [
    "keys"
   ]
  },
  {
   "cell_type": "markdown",
   "metadata": {},
   "source": [
    "After doing some preliminary investigation. I begin to parse the file for street names that need fixing."
   ]
  },
  {
   "cell_type": "code",
   "execution_count": 34,
   "metadata": {
    "collapsed": true
   },
   "outputs": [],
   "source": [
    "street_type_re = re.compile(r'\\b\\S+\\.?$', re.IGNORECASE) #Regex expression to search for street names at the end of terms.\n",
    "expected = [\"Airport\",\"Alley\",\"Avenue\", \"Boulevard\",\"Bridge\",\"Building\",\"Circle\", \\\n",
    "            \"Close\",\"Court\",\"Concourse\",\"Commerce\", \"Common\",\"Commons\",\"Crescent\",\"Cross\",\"Drive\",\\\n",
    "            \"Driveway\",\"Expressway\",\"Highway\",\"Lane\",\"Loop\",\"Park\",\"Parkway\",\"Path\",\\\n",
    "            \"Place\",\"Plaza\"\"Ridge\",\"Road\",\"Route\",\"Run\",\"Slip\",\"Square\",\"Street\",\"Suite\",\\\n",
    "            \"Terrace\",\"Trace\",\"Trail\",\"Thruway\",\"Turnpike\",\"Walk\",\"Walkway\",\"Way\"]\n",
    "# List of expected names of streets.\n",
    "def is_street_name(elem):\n",
    "    return (elem.attrib['k'] == \"addr:street\")                      #Function to determine if element has a street name.\n",
    "\n",
    "def audit_street_type(street_types, street_name):\n",
    "    m = street_type_re.search(street_name)               #Function to add street names that are not in expected to a list.\n",
    "    if m:\n",
    "        street_type = m.group()\n",
    "        if street_type not in expected:\n",
    "            street_types[street_type].add(street_name)\n",
    "\n",
    "\n",
    "def audit(osm_file):\n",
    "    street_types = defaultdict(set)                                #Function to parse the xml document\n",
    "    for event, elem in et.iterparse(osm_file, events=(\"start\",)):  #And use the other functions in conjuction\n",
    "        if elem.tag == \"node\" or elem.tag == \"way\":\n",
    "            for tag in elem.iter(\"tag\"):\n",
    "                if is_street_name(tag):\n",
    "                    audit_street_type(street_types, tag.attrib['v'])\n",
    "    return street_types\n",
    "\n",
    "with bz2.BZ2File(io.BytesIO(r.content)) as osm_file:\n",
    "    street_type=audit(osm_file)"
   ]
  },
  {
   "cell_type": "code",
   "execution_count": null,
   "metadata": {
    "collapsed": true
   },
   "outputs": [],
   "source": [
    "with open('C://Users/Zohaib/Desktop/Lectures/Udacity/Streets.txt','w') as f:     #Print the street types to a file called \n",
    "    pprint.pprint(street_type,f)                                                 #Streets.txt to create the mapping dictionary."
   ]
  },
  {
   "cell_type": "markdown",
   "metadata": {},
   "source": [
    "After parsing the file for odd street types, a mapping dictionary is created below to fix the street tyes."
   ]
  },
  {
   "cell_type": "code",
   "execution_count": 35,
   "metadata": {
    "collapsed": true
   },
   "outputs": [],
   "source": [
    "mapping = { \"Americas\\n\":\"Americas\",\n",
    "            \"Ave.\":\"Avenue\",\n",
    "            \"ave\":\"Avenue\",\n",
    "            \"avenue\":\"Avenue\",\n",
    "            \"Ave,\":\"Avenue\",\n",
    "            \"Avene\":\"Avenue\",\n",
    "            \"Aveneu\":\"Avenue\",\n",
    "            \"Ave\":\"Avenue\",\n",
    "            \"AVE.\":\"Avenue\",\n",
    "            \"AVE\":\"Avenue\",\n",
    "            \"AVenue\":\"Avenue\",\n",
    "            \"AVENUE\":\"Avenue\",\n",
    "            \"bl\":\"Boulevard\",\n",
    "            \"bl\":\"Building\",\n",
    "            \"Blv.\":\"Boulevard\",\n",
    "            \"boulevard\":\"Boulevard\",\n",
    "            \"Blvd.\":\"Boulevard\",\n",
    "            \"Blvd\":\"Boulevard\",\n",
    "            \"BLDG\":\"Building\",\n",
    "            \"BLD\":\"Building\",\n",
    "            \"Cir\":\"Circle\",\n",
    "            \"Ct.\":\"Court\",\n",
    "            \"Ct\":\"Court\",\n",
    "            \"Ctr\":\"Center\",\n",
    "            \"Crst\":\"Cresecent\",\n",
    "            \"Cres\":\"Crescent\",\n",
    "            \"Cmn\":\"Common\",\n",
    "            \"Concrs\":\"Concourse\",\n",
    "            \"Cv\":\"Cove\",\n",
    "            \"drive\":\"Drive\",\n",
    "            \"DRIVE\":\"Drive\",\n",
    "            \"Dr.\":\"Drive\",\n",
    "            \"Dr\":\"Drive\",\n",
    "            \"EAST\":\"East\",\n",
    "            \"E\":\"East\",\n",
    "            \"Expy\":\"Expressway\",\n",
    "            \"Grn\":\"Green\",\n",
    "            \"HIGHWAY\":\"Highway\",\n",
    "            \"Hwy\":\"Highway\",\n",
    "            \"LANE\":\"Lane\",\n",
    "            \"lane\":\"Lane\",\n",
    "            \"Ldg\":\"Landing\",\n",
    "            \"Ln\":\"Lane\",\n",
    "            \"N\":\"North\",\n",
    "            \"north\":\"North\",\n",
    "            \"Pky\":\"Parkway\",\n",
    "            \"Pkwy\":\"Parkway\",\n",
    "            \"PLAZA\":\"Plaza\",\n",
    "            \"PARKWAY\":\"Parkway\",\n",
    "            \"Plz\":\"Plaza\",\n",
    "            \"Pl\":\"Place\",\n",
    "            \"Pl\":\"Place\",\n",
    "            \"PLACE\":\"Place\",\n",
    "            \"Pt\":\"Point\",\n",
    "            \"Rd.\": \"Road\",\n",
    "            \"Rd\":\"Road\",\n",
    "            \"ROAD\":\"Road\",\n",
    "            \"Rdg\":\"Ridge\",\n",
    "            \"route\":\"Route\",\n",
    "            \"route\":\"Route\",\n",
    "            \"road\":\"Road\",\n",
    "            \"St.\": \"Street\",\n",
    "            \"St\": \"Street\",\n",
    "            \"st.\":\"Street\",\n",
    "            \"st \":\"Street\",\n",
    "            \"street\":\"Street\",\n",
    "            \"STREET\":\"Street\",\n",
    "            \"ST\":\"Street\",\n",
    "            \"Ste.\":\"Suite\",\n",
    "            \"Ste\":\"Suite\",\n",
    "            \"STE\":\"Suite\",\n",
    "            \"S\":\"South\",\n",
    "            \"SOUTH\":\"South\",\n",
    "            \"STREET\":\"Street\",\n",
    "            \"Turnlike\":\"Turnpike\",\n",
    "            \"Tunrpike\":\"Turnpike\",\n",
    "            \"Tunpike\":\"Turnpike\",\n",
    "            \"Tpke\":\"Turnpike\",\n",
    "            \"Tirnpike\":\"Turnpike\",\n",
    "            \"Ter\":\"Terrace\",\n",
    "            \"Trce\":\"Trace\",\n",
    "            \"WAY\":\"Way\",\n",
    "            \"W.\":\"West\",\n",
    "            \"W\":\"West\",\n",
    "            \"west\":\"West\",\n",
    "            \"WEST\":\"West\"}                  #Mapping for corrected names.\n",
    "def update_name(name, mapping):\n",
    "    map=''\n",
    "    mapping.keys()\n",
    "    for i in mapping.keys():                #Function to replace all instances of the occurrences of the odd street type\n",
    "        name=re.sub('(?<![a-zA-Z0-9])(?<=''){}(?!\\.)(?![a-zA-Z0-9\\-])'.format(i),mapping[i],name) #in the street names.\n",
    "    return name                                                     #Uses the re.sub function to replace the street name\n",
    "                                                                    #with all instances corrected.\n",
    "for st_type, ways in street_type.items():\n",
    "        for name in ways:\n",
    "            better_name = update_name(name, mapping)"
   ]
  },
  {
   "cell_type": "markdown",
   "metadata": {},
   "source": [
    "Finally, after creating this function, I can now parse the xml document completely and output the relevant lines into csv files."
   ]
  },
  {
   "cell_type": "code",
   "execution_count": 36,
   "metadata": {
    "collapsed": true
   },
   "outputs": [],
   "source": [
    "NODES_PATH = \"nodes.csv\"\n",
    "NODE_TAGS_PATH = \"nodes_tags.csv\"\n",
    "WAYS_PATH = \"ways.csv\"\n",
    "WAY_NODES_PATH = \"ways_nodes.csv\"\n",
    "WAY_TAGS_PATH = \"ways_tags.csv\"                               #Name of output files.\n",
    "\n",
    "LOWER_COLON = re.compile(r'^([a-z]|_)+:([a-z]|_)+')\n",
    "PROBLEMCHARS = re.compile(r'[=\\+/&<>;\\'\"\\?%#$@\\,\\. \\t\\r\\n]')\n",
    "\n",
    "import sche\n",
    "SCHEMA = sche.schema                                          #Imports the relevant schema of the relevant elements.\n",
    "\n",
    "NODE_FIELDS = ['id', 'lat', 'lon', 'user', 'uid', 'version', 'changeset', 'timestamp']\n",
    "NODE_TAGS_FIELDS = ['id', 'key', 'value', 'type']\n",
    "WAY_FIELDS = ['id', 'user', 'uid', 'version', 'changeset', 'timestamp']\n",
    "WAY_TAGS_FIELDS = ['id', 'key', 'value', 'type']\n",
    "WAY_NODES_FIELDS = ['id', 'node_id', 'position']                               #All of the fields wanted for each type of tag.\n",
    "\n",
    "def shape_element(element, node_attr_fields=NODE_FIELDS, way_attr_fields=WAY_FIELDS,\n",
    "                  problem_chars=PROBLEMCHARS, default_tag_type='regular'):\n",
    "    \"\"\"Clean and shape node or way XML element to Python dict\"\"\"\n",
    "\n",
    "    node_attribs = {}\n",
    "    way_attribs = {}\n",
    "    way_nodes = []\n",
    "    tags = []  # Handle secondary tags the same way for both node and way elements\n",
    "    list=['id','user','uid','version','lat','lon','timestamp','changeset']\n",
    "    listw=['id','user','uid','version','timestamp','changeset']\n",
    "    list1=['id','key','value','type']\n",
    "    list2=['id','node_id','position']\n",
    "    if element.tag == 'node':\n",
    "       node_attribs.update(element.attrib)\n",
    "       k=node_attribs.keys()\n",
    "       for i in k:\n",
    "           if i not in list:\n",
    "               del node_attribs[i]\n",
    "       for i in element.iter(\"tag\"):                                   #Takes each element and grabs only the relevant\n",
    "           temp_dict=defaultdict()                                     #attributes for each type of tag in default dicts/\n",
    "           if i==None:                                                 #lists.\n",
    "               continue\n",
    "           elif ':' in i.attrib.get('k'):\n",
    "               temp_dict['id']=element.attrib.get('id')\n",
    "               temp_dict['type']=i.attrib.get('k').partition(':')[0]\n",
    "               temp_dict['key']=i.attrib.get('k').partition(':')[2]\n",
    "               temp_dict['value']=i.attrib.get('v')\n",
    "               tags.append(temp_dict)\n",
    "           else:\n",
    "               temp_dict['id']=element.attrib.get('id')\n",
    "               temp_dict['key']=i.attrib.get('k')\n",
    "               temp_dict['type']=default_tag_type\n",
    "               temp_dict['value']=i.attrib.get('v')\n",
    "               tags.append(temp_dict)\n",
    "               \n",
    "            \n",
    "    elif element.tag == 'way':\n",
    "        way_attribs.update(element.attrib)\n",
    "        k=way_attribs.keys()\n",
    "        for i in k:\n",
    "            if i not in listw:\n",
    "                del way_attribs[i]\n",
    "        for a,i in enumerate(element.iter(\"nd\")):\n",
    "            temp_dict=defaultdict()\n",
    "            if i==None:\n",
    "                continue\n",
    "            else:\n",
    "                temp_dict['id']=element.attrib.get('id')\n",
    "                temp_dict['node_id']=i.attrib.get('ref')\n",
    "                temp_dict['position']=a\n",
    "                way_nodes.append(temp_dict)\n",
    "        for i in element.iter(\"tag\"):\n",
    "            temp_dict=defaultdict()\n",
    "            if ':' in i.attrib.get('k'):\n",
    "                temp_dict['id']=element.attrib.get('id')\n",
    "                temp_dict['type']=i.attrib.get('k').partition(':')[0]\n",
    "                temp_dict['key']=i.attrib.get('k').partition(':')[2]\n",
    "                temp_dict['value']=i.attrib.get('v')\n",
    "                tags.append(temp_dict)\n",
    "            else:\n",
    "                temp_dict['id']=element.attrib.get('id')\n",
    "                temp_dict['key']=i.attrib.get('k')\n",
    "                temp_dict['type']=default_tag_type\n",
    "                temp_dict['value']=i.attrib.get('v')\n",
    "                tags.append(temp_dict)\n",
    "\n",
    "    \n",
    "    if element.tag == 'node':\n",
    "        return {'node': node_attribs, 'node_tags': tags}\n",
    "    elif element.tag == 'way':                                  #Returns the relevant lists for the function.\n",
    "        return {'way': way_attribs, 'way_nodes': way_nodes, 'way_tags': tags}"
   ]
  },
  {
   "cell_type": "code",
   "execution_count": 37,
   "metadata": {
    "collapsed": true
   },
   "outputs": [],
   "source": [
    "def get_element(osm_file, tags=('node', 'way', 'relation')):\n",
    "    context = et.iterparse(osm_file, events=('start', 'end'))\n",
    "    _, root = next(context)\n",
    "    for event, elem in context:\n",
    "        if event == 'end' and elem.tag in tags:                     #Gets each type of relevant element in the xml file.\n",
    "            yield elem\n",
    "            root.clear()\n",
    "\n",
    "\n",
    "def validate_element(element, validator, schema=SCHEMA):\n",
    "    if validator.validate(element, schema) is not True:\n",
    "        field, errors = next(validator.errors.items())                        #Validates that the elements follow\n",
    "        message_string = \"\\nElement of type '{0}' has the following errors:\\n{1}\" #Schema.\n",
    "        error_string = pprint.pformat(errors)\n",
    "        \n",
    "        raise Exception(message_string.format(field, error_string))\n",
    "\n",
    "class UnicodeDictWriter(csv.DictWriter, object):\n",
    "    \n",
    "    def writerow(self, row):\n",
    "        super(UnicodeDictWriter, self).writerow({\n",
    "            k: (v.encode('utf-8') if type(v)=='str' else v) for k, v in row.items()  #Extends csvwriter to handle\n",
    "        })                                                                           #Unicode output.\n",
    "        \n",
    "    def writerows(self, rows):\n",
    "        for row in rows:\n",
    "            self.writerow(row)"
   ]
  },
  {
   "cell_type": "code",
   "execution_count": 20,
   "metadata": {
    "collapsed": true
   },
   "outputs": [],
   "source": [
    "def process_map(file_in, validate):\n",
    "\n",
    "    with codecs.open(NODES_PATH, 'w', encoding='utf-8') as nodes_file,\\\n",
    "        codecs.open(NODE_TAGS_PATH,'w', encoding='utf-8') as nodes_tags_file,\\\n",
    "        codecs.open(WAYS_PATH, 'w', encoding='utf-8') as ways_file,\\\n",
    "        codecs.open(WAY_NODES_PATH, 'w', encoding='utf-8') as way_nodes_file,\\\n",
    "        codecs.open(WAY_TAGS_PATH, 'w', encoding='utf-8') as way_tags_file:\n",
    "\n",
    "        nodes_writer = UnicodeDictWriter(nodes_file, NODE_FIELDS)\n",
    "        node_tags_writer = UnicodeDictWriter(nodes_tags_file, NODE_TAGS_FIELDS)\n",
    "        ways_writer = UnicodeDictWriter(ways_file, WAY_FIELDS)\n",
    "        way_nodes_writer = UnicodeDictWriter(way_nodes_file, WAY_NODES_FIELDS)  #Iteratively process each XML element\n",
    "        way_tags_writer = UnicodeDictWriter(way_tags_file, WAY_TAGS_FIELDS)     #and write to csv(s)\n",
    "\n",
    "        nodes_writer.writeheader()\n",
    "        node_tags_writer.writeheader()\n",
    "        ways_writer.writeheader()\n",
    "        way_nodes_writer.writeheader()\n",
    "        way_tags_writer.writeheader()\n",
    "\n",
    "        validator = cerberus.Validator()\n",
    "\n",
    "        for element in get_element(file_in, tags=('node', 'way')):\n",
    "            el = shape_element(element)\n",
    "            if el:\n",
    "                if validate is True:\n",
    "                    validate_element(el, validator)\n",
    "\n",
    "                if element.tag == 'node':\n",
    "                    nodes_writer.writerow(el['node'])\n",
    "                    node_tags_writer.writerows(el['node_tags'])\n",
    "                elif element.tag == 'way':\n",
    "                    ways_writer.writerow(el['way'])\n",
    "                    way_nodes_writer.writerows(el['way_nodes'])\n",
    "                    way_tags_writer.writerows(el['way_tags'])\n",
    "\n",
    "\n",
    "with bz2.BZ2File(io.BytesIO(r.content)) as osm_file:\n",
    "    process_map(osm_file, validate=True)"
   ]
  },
  {
   "cell_type": "markdown",
   "metadata": {},
   "source": [
    "After this step the file has been iteratively parsed, and the output has been saved to csv files. Thereafter I upload the files to sqlite database called \"New_York\". Now I access it to run a general query for information."
   ]
  },
  {
   "cell_type": "code",
   "execution_count": 5,
   "metadata": {},
   "outputs": [],
   "source": [
    "db=sqlite3.connect(\"C://Users/Zohaib/Desktop/Lectures/Udacity/sqlite_windows/New_York.db\")\n",
    "cursor=db.cursor()   #Connects to the database with the data from the XML file."
   ]
  },
  {
   "cell_type": "code",
   "execution_count": 43,
   "metadata": {},
   "outputs": [
    {
     "data": {
      "image/png": "[encoded data removed]",
      "text/plain": [
       "<matplotlib.figure.Figure at 0x23a99d016a0>"
      ]
     },
     "metadata": {},
     "output_type": "display_data"
    }
   ],
   "source": [
    "cursor.execute(\"select user,count(*) from nodes group by user;\")\n",
    "users_sql=cursor.fetchall()\n",
    "number_of_posts=[x[1] for x in users_sql]                          #Returns count of posts by each user.\n",
    "posts_reasonable=[]\n",
    "for i in number_of_posts:\n",
    "    if i<=150:                                                     #Plots up to the 85th percentile of the results\n",
    "        posts_reasonable.append(i)                                 #to avoid outliers.\n",
    "figure=plt.figure(figsize=(12,12))\n",
    "sns.distplot(posts_reasonable,bins=range(0,151,15),kde=False,color='Red')\n",
    "plt.xlim(0,150)\n",
    "plt.title(\"Number of Posts\",fontsize=15)\n",
    "plt.xlabel(\"Number of Posts\",fontsize=15)\n",
    "plt.ylabel(\"Count\",fontsize=15)\n",
    "plt.xticks(fontsize=15)\n",
    "plt.yticks(fontsize=15);"
   ]
  },
  {
   "cell_type": "markdown",
   "metadata": {},
   "source": [
    "As can be seen above most users post between 1 to about 15 times. Then the number of posts by users decreases steadily. This is to be expected from OpenStreetMaps, as many different users are posting."
   ]
  },
  {
   "cell_type": "markdown",
   "metadata": {},
   "source": [
    "# Conclusion #"
   ]
  },
  {
   "cell_type": "markdown",
   "metadata": {},
   "source": [
    "As can be seen above, there is a lot of information in the New York OSM XML file realeased by OpenStreetMaps.org. There are several formatting issues in just street names. Some of the output also, definitely needs further inquiry though by OpenStreetMaps moderators, for example there are street names in spanish, and some that even include full addresses which does not exactly meet the convention of the rest of the output: \"340 Convent Ave, New York, NY 10031, Estados Unidos\".\n",
    "\n",
    "There is a lot more cleaning to be done in this dataset but also a lot that can be gained from analyzing it as well. Just a small smaple can be seen above as user activity can be visualized, and perhaps with further details of users one can determine where most of the information is coming from, and relegate ads to places that have less users contributing"
   ]
  }
 ],
 "metadata": {
  "kernelspec": {
   "display_name": "Python 3",
   "language": "python",
   "name": "python3"
  },
  "language_info": {
   "codemirror_mode": {
    "name": "ipython",
    "version": 3
   },
   "file_extension": ".py",
   "mimetype": "text/x-python",
   "name": "python",
   "nbconvert_exporter": "python",
   "pygments_lexer": "ipython3",
   "version": "3.6.1"
  }
 },
 "nbformat": 4,
 "nbformat_minor": 2
}
